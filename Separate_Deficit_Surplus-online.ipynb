{
 "cells": [
  {
   "cell_type": "code",
   "execution_count": 1,
   "metadata": {},
   "outputs": [],
   "source": [
    "import plotly\n",
    "plotly.tools.set_credentials_file(username='yandixin_929', api_key='P63iFm9buoejxvCqeSQq')"
   ]
  },
  {
   "cell_type": "code",
   "execution_count": 2,
   "metadata": {},
   "outputs": [],
   "source": [
    "import plotly.plotly as py   #for online plotting\n",
    "from plotly.figure_factory import create_table\n",
    "import plotly.graph_objs as go\n",
    "from plotly.grid_objs import Grid, Column\n",
    "#from plotly.offline import download_plotlyjs, init_notebook_mode, plot,iplot  #for offline plotting\n",
    "#init_notebook_mode(connected=True)  #for offline plotting\n",
    "\n",
    "import pandas as pd\n",
    "import time"
   ]
  },
  {
   "cell_type": "code",
   "execution_count": 3,
   "metadata": {},
   "outputs": [],
   "source": [
    "file_dir = '/Users/yandixin_929/Desktop/MSAN/Data_Visualization/project/'\n",
    "dataset = pd.read_csv(file_dir + 'agg_country_with_continent.csv')"
   ]
  },
  {
   "cell_type": "code",
   "execution_count": 4,
   "metadata": {},
   "outputs": [],
   "source": [
    "# make a list of years\n",
    "years = dataset.Year.unique()"
   ]
  },
  {
   "cell_type": "code",
   "execution_count": 5,
   "metadata": {},
   "outputs": [],
   "source": [
    "# make list of continents\n",
    "continents = dataset.Continent.unique()"
   ]
  },
  {
   "cell_type": "markdown",
   "metadata": {},
   "source": [
    "### Countries with major surplus with US "
   ]
  },
  {
   "cell_type": "code",
   "execution_count": 6,
   "metadata": {},
   "outputs": [],
   "source": [
    "# Naive determination - sort by the 20-yr mean surplus/deficit in ascending color and select the top 15\n",
    "deficit_countries = list(dataset.groupby('Country_name')['Surplus/Deficit'].mean().sort_values().reset_index().loc[0:15, 'Country_name'])"
   ]
  },
  {
   "cell_type": "code",
   "execution_count": 7,
   "metadata": {},
   "outputs": [
    {
     "data": {
      "text/html": [
       "<div>\n",
       "<style scoped>\n",
       "    .dataframe tbody tr th:only-of-type {\n",
       "        vertical-align: middle;\n",
       "    }\n",
       "\n",
       "    .dataframe tbody tr th {\n",
       "        vertical-align: top;\n",
       "    }\n",
       "\n",
       "    .dataframe thead th {\n",
       "        text-align: right;\n",
       "    }\n",
       "</style>\n",
       "<table border=\"1\" class=\"dataframe\">\n",
       "  <thead>\n",
       "    <tr style=\"text-align: right;\">\n",
       "      <th></th>\n",
       "      <th>Year</th>\n",
       "      <th>Country_code</th>\n",
       "      <th>Surplus/Deficit</th>\n",
       "      <th>Imports</th>\n",
       "      <th>Exports</th>\n",
       "      <th>Deficit</th>\n",
       "    </tr>\n",
       "  </thead>\n",
       "  <tbody>\n",
       "    <tr>\n",
       "      <th>count</th>\n",
       "      <td>331.000000</td>\n",
       "      <td>331.000000</td>\n",
       "      <td>331.000000</td>\n",
       "      <td>331.000000</td>\n",
       "      <td>331.000000</td>\n",
       "      <td>331.000000</td>\n",
       "    </tr>\n",
       "    <tr>\n",
       "      <th>mean</th>\n",
       "      <td>2006.984894</td>\n",
       "      <td>4734.344411</td>\n",
       "      <td>-37419.051842</td>\n",
       "      <td>81665.751104</td>\n",
       "      <td>44246.699262</td>\n",
       "      <td>37419.051842</td>\n",
       "    </tr>\n",
       "    <tr>\n",
       "      <th>std</th>\n",
       "      <td>6.016373</td>\n",
       "      <td>1527.128455</td>\n",
       "      <td>57820.513756</td>\n",
       "      <td>99046.161539</td>\n",
       "      <td>64034.456712</td>\n",
       "      <td>57820.513756</td>\n",
       "    </tr>\n",
       "    <tr>\n",
       "      <th>min</th>\n",
       "      <td>1997.000000</td>\n",
       "      <td>1220.000000</td>\n",
       "      <td>-375227.535400</td>\n",
       "      <td>4176.006873</td>\n",
       "      <td>627.900000</td>\n",
       "      <td>341.600000</td>\n",
       "    </tr>\n",
       "    <tr>\n",
       "      <th>25%</th>\n",
       "      <td>2002.000000</td>\n",
       "      <td>4190.000000</td>\n",
       "      <td>-37425.806185</td>\n",
       "      <td>25228.416765</td>\n",
       "      <td>8992.800000</td>\n",
       "      <td>12315.150000</td>\n",
       "    </tr>\n",
       "    <tr>\n",
       "      <th>50%</th>\n",
       "      <td>2007.000000</td>\n",
       "      <td>5170.000000</td>\n",
       "      <td>-18743.576960</td>\n",
       "      <td>37408.943950</td>\n",
       "      <td>18485.640880</td>\n",
       "      <td>18743.576960</td>\n",
       "    </tr>\n",
       "    <tr>\n",
       "      <th>75%</th>\n",
       "      <td>2012.000000</td>\n",
       "      <td>5700.000000</td>\n",
       "      <td>-12315.150000</td>\n",
       "      <td>101148.300000</td>\n",
       "      <td>48539.805615</td>\n",
       "      <td>37425.806185</td>\n",
       "    </tr>\n",
       "    <tr>\n",
       "      <th>max</th>\n",
       "      <td>2017.000000</td>\n",
       "      <td>7530.000000</td>\n",
       "      <td>-341.600000</td>\n",
       "      <td>505597.065000</td>\n",
       "      <td>312816.950500</td>\n",
       "      <td>375227.535400</td>\n",
       "    </tr>\n",
       "  </tbody>\n",
       "</table>\n",
       "</div>"
      ],
      "text/plain": [
       "              Year  Country_code  Surplus/Deficit        Imports  \\\n",
       "count   331.000000    331.000000       331.000000     331.000000   \n",
       "mean   2006.984894   4734.344411    -37419.051842   81665.751104   \n",
       "std       6.016373   1527.128455     57820.513756   99046.161539   \n",
       "min    1997.000000   1220.000000   -375227.535400    4176.006873   \n",
       "25%    2002.000000   4190.000000    -37425.806185   25228.416765   \n",
       "50%    2007.000000   5170.000000    -18743.576960   37408.943950   \n",
       "75%    2012.000000   5700.000000    -12315.150000  101148.300000   \n",
       "max    2017.000000   7530.000000      -341.600000  505597.065000   \n",
       "\n",
       "             Exports        Deficit  \n",
       "count     331.000000     331.000000  \n",
       "mean    44246.699262   37419.051842  \n",
       "std     64034.456712   57820.513756  \n",
       "min       627.900000     341.600000  \n",
       "25%      8992.800000   12315.150000  \n",
       "50%     18485.640880   18743.576960  \n",
       "75%     48539.805615   37425.806185  \n",
       "max    312816.950500  375227.535400  "
      ]
     },
     "execution_count": 7,
     "metadata": {},
     "output_type": "execute_result"
    }
   ],
   "source": [
    "deficit_table = dataset.loc[(dataset['Country_name'].isin(deficit_countries)) & (dataset['Surplus/Deficit'] < 0), :]\n",
    "\n",
    "deficit_table['Deficit'] = deficit_table['Surplus/Deficit'].abs()\n",
    "\n",
    "deficit_table.describe()"
   ]
  },
  {
   "cell_type": "code",
   "execution_count": 8,
   "metadata": {},
   "outputs": [],
   "source": [
    "columns = []\n",
    "# make grid\n",
    "for year in years:\n",
    "    for continent in continents:\n",
    "        dataset_by_year = deficit_table[deficit_table['Year'] == int(year)]\n",
    "        dataset_by_year_and_cont = dataset_by_year[dataset_by_year['Continent'] == continent]\n",
    "        for col_name in dataset_by_year_and_cont:\n",
    "            # each column name is unique\n",
    "            column_name = '{year}_{continent}_{header}_surplus_grid'.format(\n",
    "                year=year, continent=continent, header=col_name\n",
    "            )\n",
    "            a_column = Column(list(dataset_by_year_and_cont[col_name]), column_name)\n",
    "            columns.append(a_column)"
   ]
  },
  {
   "cell_type": "code",
   "execution_count": 9,
   "metadata": {},
   "outputs": [
    {
     "data": {
      "text/plain": [
       "'https://plot.ly/~yandixin_929/6/'"
      ]
     },
     "execution_count": 9,
     "metadata": {},
     "output_type": "execute_result"
    }
   ],
   "source": [
    "# upload grid\n",
    "grid = Grid(columns)\n",
    "url = py.grid_ops.upload(grid, 'surplus_grid'+str(time.time()), auto_open=False)\n",
    "url"
   ]
  },
  {
   "cell_type": "code",
   "execution_count": 10,
   "metadata": {},
   "outputs": [],
   "source": [
    "# make figure\n",
    "figure = {\n",
    "    'data': [],\n",
    "    'layout': {},\n",
    "    'frames': [],\n",
    "    'config': {'scrollzoom': True}\n",
    "}\n",
    "\n",
    "# fill in most of layout\n",
    "figure['layout']['xaxis'] = {'range': [3.5, 6], 'title': 'Imports in million', 'zerolinewidth': 1,\n",
    "        'ticklen': 5,\n",
    "        'gridwidth': 2, 'gridcolor':'rgb(255, 255, 255)', 'type': 'log'}\n",
    "figure['layout']['yaxis'] = {'range': [3.5, 6], 'title': 'Exports in million', 'zerolinewidth': 1,\n",
    "        'ticklen': 5,\n",
    "        'gridwidth': 2, 'gridcolor':'rgb(255, 255, 255)', 'type': 'log'}\n",
    "figure['layout']['hovermode'] = 'closest'\n",
    "figure['layout']['paper_bgcolor'] = 'rgb(243, 243, 243)'\n",
    "figure['layout']['plot_bgcolor'] = 'rgb(243, 243, 243)'\n",
    "figure['layout']['title'] = 'Exports vs Imports for Countries with Major Surplus wrt US'"
   ]
  },
  {
   "cell_type": "code",
   "execution_count": 11,
   "metadata": {},
   "outputs": [],
   "source": [
    "# make slider\n",
    "sliders_dict = {\n",
    "    'active': 0,\n",
    "    'yanchor': 'top',\n",
    "    'xanchor': 'left',\n",
    "    'currentvalue': {\n",
    "        'font': {'size': 20},\n",
    "        'prefix': 'Year:',\n",
    "        'visible': True,\n",
    "        'xanchor': 'right'\n",
    "    },\n",
    "    'transition': {'duration': 300, 'easing': 'cubic-in-out'},\n",
    "    'pad': {'b': 10, 't': 50},\n",
    "    'len': 0.9,\n",
    "    'x': 0.1,\n",
    "    'y': 0,\n",
    "    'steps': []\n",
    "}\n"
   ]
  },
  {
   "cell_type": "code",
   "execution_count": 12,
   "metadata": {},
   "outputs": [],
   "source": [
    "figure['layout']['sliders'] = {\n",
    "    'args': [\n",
    "        'transition', {\n",
    "            'duration': 400,\n",
    "            'easing': 'cubic-in-out'\n",
    "        }\n",
    "    ],\n",
    "    'initialValue': '1997',\n",
    "    'plotlycommand': 'animate',\n",
    "    'values': years,\n",
    "    'visible': True\n",
    "}"
   ]
  },
  {
   "cell_type": "code",
   "execution_count": 13,
   "metadata": {},
   "outputs": [],
   "source": [
    "figure['layout']['updatemenus'] = [\n",
    "    {\n",
    "        'buttons': [\n",
    "            {\n",
    "                'args': [None, {'frame': {'duration': 500, 'redraw': False},\n",
    "                         'fromcurrent': True, 'transition': {'duration': 300, 'easing': 'quadratic-in-out'}}],\n",
    "                'label': 'Play',\n",
    "                'method': 'animate'\n",
    "            },\n",
    "            {\n",
    "                'args': [[None], {'frame': {'duration': 0, 'redraw': False}, 'mode': 'immediate',\n",
    "                'transition': {'duration': 0}}],\n",
    "                'label': 'Pause',\n",
    "                'method': 'animate'\n",
    "            }\n",
    "        ],\n",
    "        'direction': 'left',\n",
    "        'pad': {'r': 10, 't': 87},\n",
    "        'showactive': False,\n",
    "        'type': 'buttons',\n",
    "        'x': 0.1,\n",
    "        'xanchor': 'right',\n",
    "        'y': 0,\n",
    "        'yanchor': 'top'\n",
    "    }\n",
    "]"
   ]
  },
  {
   "cell_type": "code",
   "execution_count": 14,
   "metadata": {},
   "outputs": [],
   "source": [
    "# new make data\n",
    "col_name_template = '{year}_{continent}_{header}_surplus_grid'\n",
    "year = 1997\n",
    "for continent in continents:\n",
    "    data_dict = {\n",
    "        'xsrc': grid.get_column_reference(col_name_template.format(\n",
    "            year=year, continent=continent, header='Imports'\n",
    "        )),\n",
    "        'ysrc': grid.get_column_reference(col_name_template.format(\n",
    "            year=year, continent=continent, header='Exports'\n",
    "        )),\n",
    "        'mode': 'markers',\n",
    "        'textsrc': grid.get_column_reference(col_name_template.format(\n",
    "            year=year, continent=continent, header='Country_name'\n",
    "        )),\n",
    "        'marker': {\n",
    "            'sizemode': 'area',\n",
    "            'sizeref': 200,\n",
    "            'sizesrc': grid.get_column_reference(col_name_template.format(\n",
    "                 year=year, continent=continent, header='Deficit'))\n",
    "        },\n",
    "        'name': continent\n",
    "    }\n",
    "    figure['data'].append(data_dict)"
   ]
  },
  {
   "cell_type": "code",
   "execution_count": 15,
   "metadata": {},
   "outputs": [],
   "source": [
    "# new make frames\n",
    "for year in years:\n",
    "    frame = {'data': [], 'name': str(year)}\n",
    "    for continent in continents:\n",
    "        data_dict = {\n",
    "            'xsrc': grid.get_column_reference(col_name_template.format(\n",
    "            year=year, continent=continent, header='Imports'\n",
    "        )),\n",
    "        'ysrc': grid.get_column_reference(col_name_template.format(\n",
    "            year=year, continent=continent, header='Exports'\n",
    "        )),\n",
    "            'textsrc': grid.get_column_reference(col_name_template.format(\n",
    "            year=year, continent=continent, header='Country_name'\n",
    "        )),\n",
    "            'marker': {\n",
    "                'sizemode': 'area',\n",
    "                'sizeref': 200,\n",
    "                'sizesrc': grid.get_column_reference(col_name_template.format(\n",
    "                 year=year, continent=continent, header='Deficit'))\n",
    "            },\n",
    "            'name': continent\n",
    "        }\n",
    "        frame['data'].append(data_dict)\n",
    "\n",
    "    figure['frames'].append(frame)\n",
    "    slider_step = {'args': [\n",
    "        [year],\n",
    "        {'frame': {'duration': 300, 'redraw': False},\n",
    "         'mode': 'immediate',\n",
    "       'transition': {'duration': 300}}\n",
    "     ],\n",
    "     'label': year,\n",
    "     'method': 'animate'}\n",
    "    sliders_dict['steps'].append(slider_step)"
   ]
  },
  {
   "cell_type": "code",
   "execution_count": 16,
   "metadata": {},
   "outputs": [],
   "source": [
    "figure['layout']['sliders'] = [sliders_dict]"
   ]
  },
  {
   "cell_type": "code",
   "execution_count": 17,
   "metadata": {},
   "outputs": [
    {
     "data": {
      "text/html": [
       "<iframe id=\"igraph\" scrolling=\"no\" style=\"border:none;\" seamless=\"seamless\" src=\"https://plot.ly/~yandixin_929/7.embed\" height=\"525px\" width=\"100%\"></iframe>"
      ],
      "text/plain": [
       "<plotly.tools.PlotlyDisplay object>"
      ]
     },
     "execution_count": 17,
     "metadata": {},
     "output_type": "execute_result"
    }
   ],
   "source": [
    "py.icreate_animations(figure, 'surplus'+str(time.time()))"
   ]
  },
  {
   "cell_type": "markdown",
   "metadata": {},
   "source": [
    "### Countries with major deficit with US "
   ]
  },
  {
   "cell_type": "code",
   "execution_count": 18,
   "metadata": {},
   "outputs": [],
   "source": [
    "# Naive determination - sort by the 20-yr mean surplus/deficit in descending color and select the top 15\n",
    "surplus_countries = list(dataset.groupby('Country_name')['Surplus/Deficit'].mean().sort_values(ascending = False).reset_index().loc[0:15, 'Country_name'])"
   ]
  },
  {
   "cell_type": "code",
   "execution_count": 19,
   "metadata": {},
   "outputs": [
    {
     "data": {
      "text/html": [
       "<div>\n",
       "<style scoped>\n",
       "    .dataframe tbody tr th:only-of-type {\n",
       "        vertical-align: middle;\n",
       "    }\n",
       "\n",
       "    .dataframe tbody tr th {\n",
       "        vertical-align: top;\n",
       "    }\n",
       "\n",
       "    .dataframe thead th {\n",
       "        text-align: right;\n",
       "    }\n",
       "</style>\n",
       "<table border=\"1\" class=\"dataframe\">\n",
       "  <thead>\n",
       "    <tr style=\"text-align: right;\">\n",
       "      <th></th>\n",
       "      <th>Year</th>\n",
       "      <th>Country_code</th>\n",
       "      <th>Surplus/Deficit</th>\n",
       "      <th>Imports</th>\n",
       "      <th>Exports</th>\n",
       "      <th>Surplus</th>\n",
       "    </tr>\n",
       "  </thead>\n",
       "  <tbody>\n",
       "    <tr>\n",
       "      <th>count</th>\n",
       "      <td>301.000000</td>\n",
       "      <td>301.000000</td>\n",
       "      <td>301.000000</td>\n",
       "      <td>301.000000</td>\n",
       "      <td>301.000000</td>\n",
       "      <td>301.000000</td>\n",
       "    </tr>\n",
       "    <tr>\n",
       "      <th>mean</th>\n",
       "      <td>2007.528239</td>\n",
       "      <td>4308.976744</td>\n",
       "      <td>6529.041880</td>\n",
       "      <td>6636.917860</td>\n",
       "      <td>13165.959741</td>\n",
       "      <td>6529.041880</td>\n",
       "    </tr>\n",
       "    <tr>\n",
       "      <th>std</th>\n",
       "      <td>6.121822</td>\n",
       "      <td>1515.644073</td>\n",
       "      <td>6847.375084</td>\n",
       "      <td>7070.143690</td>\n",
       "      <td>11763.634133</td>\n",
       "      <td>6847.375084</td>\n",
       "    </tr>\n",
       "    <tr>\n",
       "      <th>min</th>\n",
       "      <td>1997.000000</td>\n",
       "      <td>2250.000000</td>\n",
       "      <td>40.200000</td>\n",
       "      <td>142.400000</td>\n",
       "      <td>354.400000</td>\n",
       "      <td>40.200000</td>\n",
       "    </tr>\n",
       "    <tr>\n",
       "      <th>25%</th>\n",
       "      <td>2002.000000</td>\n",
       "      <td>2470.000000</td>\n",
       "      <td>1705.700000</td>\n",
       "      <td>764.809491</td>\n",
       "      <td>3334.100000</td>\n",
       "      <td>1705.700000</td>\n",
       "    </tr>\n",
       "    <tr>\n",
       "      <th>50%</th>\n",
       "      <td>2008.000000</td>\n",
       "      <td>4231.000000</td>\n",
       "      <td>3657.059932</td>\n",
       "      <td>4261.021154</td>\n",
       "      <td>9750.819527</td>\n",
       "      <td>3657.059932</td>\n",
       "    </tr>\n",
       "    <tr>\n",
       "      <th>75%</th>\n",
       "      <td>2013.000000</td>\n",
       "      <td>5590.000000</td>\n",
       "      <td>9795.498752</td>\n",
       "      <td>9806.700000</td>\n",
       "      <td>20005.427960</td>\n",
       "      <td>9795.498752</td>\n",
       "    </tr>\n",
       "    <tr>\n",
       "      <th>max</th>\n",
       "      <td>2017.000000</td>\n",
       "      <td>7290.000000</td>\n",
       "      <td>36678.144590</td>\n",
       "      <td>32123.378690</td>\n",
       "      <td>44105.506960</td>\n",
       "      <td>36678.144590</td>\n",
       "    </tr>\n",
       "  </tbody>\n",
       "</table>\n",
       "</div>"
      ],
      "text/plain": [
       "              Year  Country_code  Surplus/Deficit       Imports       Exports  \\\n",
       "count   301.000000    301.000000       301.000000    301.000000    301.000000   \n",
       "mean   2007.528239   4308.976744      6529.041880   6636.917860  13165.959741   \n",
       "std       6.121822   1515.644073      6847.375084   7070.143690  11763.634133   \n",
       "min    1997.000000   2250.000000        40.200000    142.400000    354.400000   \n",
       "25%    2002.000000   2470.000000      1705.700000    764.809491   3334.100000   \n",
       "50%    2008.000000   4231.000000      3657.059932   4261.021154   9750.819527   \n",
       "75%    2013.000000   5590.000000      9795.498752   9806.700000  20005.427960   \n",
       "max    2017.000000   7290.000000     36678.144590  32123.378690  44105.506960   \n",
       "\n",
       "            Surplus  \n",
       "count    301.000000  \n",
       "mean    6529.041880  \n",
       "std     6847.375084  \n",
       "min       40.200000  \n",
       "25%     1705.700000  \n",
       "50%     3657.059932  \n",
       "75%     9795.498752  \n",
       "max    36678.144590  "
      ]
     },
     "execution_count": 19,
     "metadata": {},
     "output_type": "execute_result"
    }
   ],
   "source": [
    "surplus_table = dataset.loc[(dataset['Country_name'].isin(surplus_countries)) & (dataset['Surplus/Deficit'] > 0), :]\n",
    "surplus_table['Surplus'] = surplus_table['Surplus/Deficit'].abs()\n",
    "surplus_table.describe()"
   ]
  },
  {
   "cell_type": "code",
   "execution_count": 20,
   "metadata": {},
   "outputs": [],
   "source": [
    "columns = []\n",
    "# make grid\n",
    "for year in years:\n",
    "    for continent in continents:\n",
    "        dataset_by_year = surplus_table[surplus_table['Year'] == int(year)]\n",
    "        dataset_by_year_and_cont = dataset_by_year[dataset_by_year['Continent'] == continent]\n",
    "        for col_name in dataset_by_year_and_cont:\n",
    "            # each column name is unique\n",
    "            column_name = '{year}_{continent}_{header}_deficit_grid'.format(\n",
    "                year=year, continent=continent, header=col_name\n",
    "            )\n",
    "            a_column = Column(list(dataset_by_year_and_cont[col_name]), column_name)\n",
    "            columns.append(a_column)"
   ]
  },
  {
   "cell_type": "code",
   "execution_count": 21,
   "metadata": {},
   "outputs": [
    {
     "data": {
      "text/plain": [
       "'https://plot.ly/~yandixin_929/8/'"
      ]
     },
     "execution_count": 21,
     "metadata": {},
     "output_type": "execute_result"
    }
   ],
   "source": [
    "# upload grid\n",
    "grid = Grid(columns)\n",
    "url = py.grid_ops.upload(grid, 'deficit_grid'+str(time.time()), auto_open=False)\n",
    "url"
   ]
  },
  {
   "cell_type": "code",
   "execution_count": 22,
   "metadata": {},
   "outputs": [],
   "source": [
    "# make figure\n",
    "figure = {\n",
    "    'data': [],\n",
    "    'layout': {},\n",
    "    'frames': [],\n",
    "    'config': {'scrollzoom': True}\n",
    "}\n",
    "\n",
    "# fill in most of layout\n",
    "figure['layout']['xaxis'] = {'range': [2.9, 4.6], 'title': 'Imports in million', 'zerolinewidth': 1,\n",
    "        'ticklen': 5,\n",
    "        'gridwidth': 2, 'gridcolor':'rgb(255, 255, 255)', 'type': 'log'}\n",
    "figure['layout']['yaxis'] = {'range': [3.2, 5], 'title': 'Exports in million', 'zerolinewidth': 1,\n",
    "        'ticklen': 5,\n",
    "        'gridwidth': 2, 'gridcolor':'rgb(255, 255, 255)', 'type': 'log'}\n",
    "figure['layout']['hovermode'] = 'closest'\n",
    "figure['layout']['paper_bgcolor'] = 'rgb(243, 243, 243)'\n",
    "figure['layout']['plot_bgcolor'] = 'rgb(243, 243, 243)'\n",
    "figure['layout']['title'] = 'Exports vs Imports for Countries with Major Deficit with US'"
   ]
  },
  {
   "cell_type": "code",
   "execution_count": 23,
   "metadata": {},
   "outputs": [],
   "source": [
    "# make slider\n",
    "sliders_dict = {\n",
    "    'active': 0,\n",
    "    'yanchor': 'top',\n",
    "    'xanchor': 'left',\n",
    "    'currentvalue': {\n",
    "        'font': {'size': 20},\n",
    "        'prefix': 'Year:',\n",
    "        'visible': True,\n",
    "        'xanchor': 'right'\n",
    "    },\n",
    "    'transition': {'duration': 300, 'easing': 'cubic-in-out'},\n",
    "    'pad': {'b': 10, 't': 50},\n",
    "    'len': 0.9,\n",
    "    'x': 0.1,\n",
    "    'y': 0,\n",
    "    'steps': []\n",
    "}"
   ]
  },
  {
   "cell_type": "code",
   "execution_count": 24,
   "metadata": {},
   "outputs": [],
   "source": [
    "figure['layout']['sliders'] = {\n",
    "    'args': [\n",
    "        'transition', {\n",
    "            'duration': 400,\n",
    "            'easing': 'cubic-in-out'\n",
    "        }\n",
    "    ],\n",
    "    'initialValue': '1997',\n",
    "    'plotlycommand': 'animate',\n",
    "    'values': years,\n",
    "    'visible': True\n",
    "}"
   ]
  },
  {
   "cell_type": "code",
   "execution_count": 25,
   "metadata": {},
   "outputs": [],
   "source": [
    "figure['layout']['updatemenus'] = [\n",
    "    {\n",
    "        'buttons': [\n",
    "            {\n",
    "                'args': [None, {'frame': {'duration': 500, 'redraw': False},\n",
    "                         'fromcurrent': True, 'transition': {'duration': 300, 'easing': 'quadratic-in-out'}}],\n",
    "                'label': 'Play',\n",
    "                'method': 'animate'\n",
    "            },\n",
    "            {\n",
    "                'args': [[None], {'frame': {'duration': 0, 'redraw': False}, 'mode': 'immediate',\n",
    "                'transition': {'duration': 0}}],\n",
    "                'label': 'Pause',\n",
    "                'method': 'animate'\n",
    "            }\n",
    "        ],\n",
    "        'direction': 'left',\n",
    "        'pad': {'r': 10, 't': 87},\n",
    "        'showactive': False,\n",
    "        'type': 'buttons',\n",
    "        'x': 0.1,\n",
    "        'xanchor': 'right',\n",
    "        'y': 0,\n",
    "        'yanchor': 'top'\n",
    "    }\n",
    "]"
   ]
  },
  {
   "cell_type": "code",
   "execution_count": 26,
   "metadata": {},
   "outputs": [],
   "source": [
    "# new make data\n",
    "col_name_template = '{year}_{continent}_{header}_deficit_grid'\n",
    "year = 1997\n",
    "for continent in continents:\n",
    "    data_dict = {\n",
    "        'xsrc': grid.get_column_reference(col_name_template.format(\n",
    "            year=year, continent=continent, header='Imports'\n",
    "        )),\n",
    "        'ysrc': grid.get_column_reference(col_name_template.format(\n",
    "            year=year, continent=continent, header='Exports'\n",
    "        )),\n",
    "        'mode': 'markers',\n",
    "        'textsrc': grid.get_column_reference(col_name_template.format(\n",
    "            year=year, continent=continent, header='Country_name')),\n",
    "        'marker': {\n",
    "            'sizemode': 'area',\n",
    "            'sizeref': 50,\n",
    "            'sizesrc': grid.get_column_reference(col_name_template.format(\n",
    "                 year=year, continent=continent, header='Surplus'))\n",
    "        },\n",
    "        'name': continent\n",
    "    }\n",
    "    figure['data'].append(data_dict)"
   ]
  },
  {
   "cell_type": "code",
   "execution_count": 27,
   "metadata": {},
   "outputs": [],
   "source": [
    "# new make frames\n",
    "for year in years:\n",
    "    frame = {'data': [], 'name': str(year)}\n",
    "    for continent in continents:\n",
    "        data_dict = {\n",
    "            'xsrc': grid.get_column_reference(col_name_template.format(\n",
    "            year=year, continent=continent, header='Imports'\n",
    "        )),\n",
    "        'ysrc': grid.get_column_reference(col_name_template.format(\n",
    "            year=year, continent=continent, header='Exports'\n",
    "        )),\n",
    "            'mode': 'markers',\n",
    "            'textsrc': grid.get_column_reference(col_name_template.format(\n",
    "            year=year, continent=continent, header='Country_name'\n",
    "        )),\n",
    "            'marker': {\n",
    "                'sizemode': 'area',\n",
    "                'sizeref': 50,\n",
    "               'sizesrc': grid.get_column_reference(col_name_template.format(\n",
    "                 year=year, continent=continent, header='Surplus'))\n",
    "            },\n",
    "            'name': continent\n",
    "        }\n",
    "        frame['data'].append(data_dict)\n",
    "\n",
    "    figure['frames'].append(frame)\n",
    "    slider_step = {'args': [\n",
    "        [year],\n",
    "        {'frame': {'duration': 300, 'redraw': False},\n",
    "         'mode': 'immediate',\n",
    "       'transition': {'duration': 300}}\n",
    "     ],\n",
    "     'label': year,\n",
    "     'method': 'animate'}\n",
    "    sliders_dict['steps'].append(slider_step)"
   ]
  },
  {
   "cell_type": "code",
   "execution_count": 28,
   "metadata": {},
   "outputs": [],
   "source": [
    "figure['layout']['sliders'] = [sliders_dict]"
   ]
  },
  {
   "cell_type": "code",
   "execution_count": 29,
   "metadata": {},
   "outputs": [
    {
     "data": {
      "text/html": [
       "<iframe id=\"igraph\" scrolling=\"no\" style=\"border:none;\" seamless=\"seamless\" src=\"https://plot.ly/~yandixin_929/9.embed\" height=\"525px\" width=\"100%\"></iframe>"
      ],
      "text/plain": [
       "<plotly.tools.PlotlyDisplay object>"
      ]
     },
     "execution_count": 29,
     "metadata": {},
     "output_type": "execute_result"
    }
   ],
   "source": [
    "py.icreate_animations(figure, 'deficit'+str(time.time()))"
   ]
  },
  {
   "cell_type": "code",
   "execution_count": null,
   "metadata": {},
   "outputs": [],
   "source": []
  }
 ],
 "metadata": {
  "kernelspec": {
   "display_name": "Python 3",
   "language": "python",
   "name": "python3"
  },
  "language_info": {
   "codemirror_mode": {
    "name": "ipython",
    "version": 3
   },
   "file_extension": ".py",
   "mimetype": "text/x-python",
   "name": "python",
   "nbconvert_exporter": "python",
   "pygments_lexer": "ipython3",
   "version": "3.6.4"
  }
 },
 "nbformat": 4,
 "nbformat_minor": 2
}
