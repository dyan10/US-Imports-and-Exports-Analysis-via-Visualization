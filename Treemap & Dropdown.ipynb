{
 "cells": [
  {
   "cell_type": "code",
   "execution_count": 1,
   "metadata": {},
   "outputs": [
    {
     "data": {
      "text/html": [
       "<script>requirejs.config({paths: { 'plotly': ['https://cdn.plot.ly/plotly-latest.min']},});if(!window.Plotly) {{require(['plotly'],function(plotly) {window.Plotly=plotly;});}}</script>"
      ],
      "text/vnd.plotly.v1+html": [
       "<script>requirejs.config({paths: { 'plotly': ['https://cdn.plot.ly/plotly-latest.min']},});if(!window.Plotly) {{require(['plotly'],function(plotly) {window.Plotly=plotly;});}}</script>"
      ]
     },
     "metadata": {},
     "output_type": "display_data"
    }
   ],
   "source": [
    "from plotly.offline import download_plotlyjs, init_notebook_mode, plot,iplot  #for offline plotting\n",
    "init_notebook_mode(connected=True)  #for offline plotting\n",
    "import plotly.graph_objs as go\n",
    "import plotly.plotly as py\n",
    "\n",
    "import pandas as pd\n",
    "import squarify"
   ]
  },
  {
   "cell_type": "markdown",
   "metadata": {},
   "source": [
    "### Treemap Tryout"
   ]
  },
  {
   "cell_type": "code",
   "execution_count": 2,
   "metadata": {
    "collapsed": true
   },
   "outputs": [],
   "source": [
    "data = pd.read_csv('productlevel_by_country.csv')"
   ]
  },
  {
   "cell_type": "code",
   "execution_count": 3,
   "metadata": {
    "collapsed": true
   },
   "outputs": [],
   "source": [
    "exports_1996_values = data[data['Year']==1996].groupby('sitc_sdesc')['ExportsFASValueBasisYtdDec'].sum().values\n",
    "exports_1996_index = data[data['Year']==1996].groupby('sitc_sdesc')['ExportsFASValueBasisYtdDec'].sum().index"
   ]
  },
  {
   "cell_type": "code",
   "execution_count": 4,
   "metadata": {
    "collapsed": true
   },
   "outputs": [],
   "source": [
    "x = 0.\n",
    "y = 0.\n",
    "width = 400.\n",
    "height = 200.\n",
    "values = exports_1996_values"
   ]
  },
  {
   "cell_type": "code",
   "execution_count": 5,
   "metadata": {
    "collapsed": true
   },
   "outputs": [],
   "source": [
    "normed = squarify.normalize_sizes(values, width, height)\n",
    "rects = squarify.squarify(normed, x, y, width, height)"
   ]
  },
  {
   "cell_type": "code",
   "execution_count": 6,
   "metadata": {
    "collapsed": true
   },
   "outputs": [],
   "source": [
    "color_brewer = ['rgb(141,211,199)','rgb(255,255,179)','rgb(190,186,218)','rgb(251,128,114)','rgb(128,177,211)','rgb(253,180,98)','rgb(179,222,105)','rgb(252,205,229)','rgb(217,217,217)','rgb(188,128,189)']"
   ]
  },
  {
   "cell_type": "code",
   "execution_count": 7,
   "metadata": {
    "collapsed": true
   },
   "outputs": [],
   "source": [
    "shapes = []\n",
    "annotations = []\n",
    "counter = 0"
   ]
  },
  {
   "cell_type": "code",
   "execution_count": 8,
   "metadata": {
    "collapsed": true
   },
   "outputs": [],
   "source": [
    "for r in rects:\n",
    "    shapes.append( \n",
    "        dict(\n",
    "            type = 'rect', \n",
    "            x0 = r['x'], \n",
    "            y0 = r['y'], \n",
    "            x1 = r['x']+r['dx'], \n",
    "            y1 = r['y']+r['dy'],\n",
    "            line = dict( width = 2 ),\n",
    "            fillcolor = color_brewer[counter]\n",
    "        ) \n",
    "    )\n",
    "    annotations.append(\n",
    "        dict(\n",
    "            x = r['x']+(r['dx']/2),\n",
    "            y = r['y']+(r['dy']/2),\n",
    "            text = exports_1996_index[counter],\n",
    "            showarrow = False\n",
    "        )\n",
    "    )\n",
    "    counter = counter + 1\n",
    "    if counter >= len(color_brewer):\n",
    "        counter = 0"
   ]
  },
  {
   "cell_type": "code",
   "execution_count": 9,
   "metadata": {
    "collapsed": true
   },
   "outputs": [],
   "source": [
    "# For hover text\n",
    "trace0 = go.Scatter(\n",
    "    x = [ r['x']+(r['dx']/2) for r in rects ], \n",
    "    y = [ r['y']+(r['dy']/2) for r in rects ],\n",
    "    text = [ str(v) for v in values ], \n",
    "    mode = 'text',)"
   ]
  },
  {
   "cell_type": "code",
   "execution_count": 10,
   "metadata": {
    "collapsed": true
   },
   "outputs": [],
   "source": [
    "layout = dict(\n",
    "    height=700, \n",
    "    width=1000,\n",
    "    xaxis=dict(showgrid=False,zeroline=False),\n",
    "    yaxis=dict(showgrid=False,zeroline=False),\n",
    "    shapes=shapes,\n",
    "    annotations=annotations,\n",
    "    hovermode='closest'\n",
    ")"
   ]
  },
  {
   "cell_type": "code",
   "execution_count": 11,
   "metadata": {
    "collapsed": true
   },
   "outputs": [],
   "source": [
    "# With hovertext\n",
    "figure = dict(data=[trace0], layout=layout)"
   ]
  },
  {
   "cell_type": "code",
   "execution_count": 12,
   "metadata": {},
   "outputs": [
    {
     "data": {
      "application/vnd.plotly.v1+json": {
       "data": [
        {
         "mode": "text",
         "text": [
          "3689481656.0",
          "16049607738.0",
          "125862167746.0",
          "52144472686.0",
          "64568647928.0",
          "91576541564.0",
          "612360333172.0",
          "111526227388.0",
          "24450359888.0",
          "143425952960.0"
         ],
         "type": "scatter",
         "x": [
          23.377483854701694,
          23.377483854701694,
          23.377483854701694,
          80.19759252125854,
          80.19759252125854,
          80.19759252125854,
          211.9597242053892,
          355.13961553883235,
          355.13961553883235,
          355.13961553883235
         ],
         "y": [
          2.5339627750964078,
          16.09091261311894,
          113.55694983802255,
          25.03459467971023,
          81.06863851730569,
          156.03404383759548,
          100,
          39.91596758347234,
          88.58287918747783,
          148.66691160400552
         ]
        }
       ],
       "layout": {
        "annotations": [
         {
          "showarrow": false,
          "text": "ANIMAL AND VEGETABLE OILS, FATS AND WAXES",
          "x": 23.377483854701694,
          "y": 2.5339627750964078
         },
         {
          "showarrow": false,
          "text": "BEVERAGES AND TOBACCO",
          "x": 23.377483854701694,
          "y": 16.09091261311894
         },
         {
          "showarrow": false,
          "text": "CHEMICALS AND RELATED PRODUCTS",
          "x": 23.377483854701694,
          "y": 113.55694983802255
         },
         {
          "showarrow": false,
          "text": "COMMODITIES & TRANSACTIONS NOT CLASSIFIED ELSEWHER",
          "x": 80.19759252125854,
          "y": 25.03459467971023
         },
         {
          "showarrow": false,
          "text": "CRUDE MATERIALS, INEDIBLE, EXCEPT FUELS",
          "x": 80.19759252125854,
          "y": 81.06863851730569
         },
         {
          "showarrow": false,
          "text": "FOOD AND LIVE ANIMALS",
          "x": 80.19759252125854,
          "y": 156.03404383759548
         },
         {
          "showarrow": false,
          "text": "MACHINERY AND TRANSPORT EQUIPMENT",
          "x": 211.9597242053892,
          "y": 100
         },
         {
          "showarrow": false,
          "text": "MANUFACTURED GOODS CLASSIFIED CHIEFLY BY MATERIAL",
          "x": 355.13961553883235,
          "y": 39.91596758347234
         },
         {
          "showarrow": false,
          "text": "MINERAL FUELS, LUBRICANTS AND RELATED MATERIALS",
          "x": 355.13961553883235,
          "y": 88.58287918747783
         },
         {
          "showarrow": false,
          "text": "MISCELLANEOUS MANUFACTURED ARTICLES",
          "x": 355.13961553883235,
          "y": 148.66691160400552
         }
        ],
        "height": 700,
        "hovermode": "closest",
        "shapes": [
         {
          "fillcolor": "rgb(141,211,199)",
          "line": {
           "width": 2
          },
          "type": "rect",
          "x0": 0,
          "x1": 46.75496770940339,
          "y0": 0,
          "y1": 5.0679255501928155
         },
         {
          "fillcolor": "rgb(255,255,179)",
          "line": {
           "width": 2
          },
          "type": "rect",
          "x0": 0,
          "x1": 46.75496770940339,
          "y0": 5.0679255501928155,
          "y1": 27.11389967604507
         },
         {
          "fillcolor": "rgb(190,186,218)",
          "line": {
           "width": 2
          },
          "type": "rect",
          "x0": 0,
          "x1": 46.75496770940339,
          "y0": 27.11389967604507,
          "y1": 200.00000000000003
         },
         {
          "fillcolor": "rgb(251,128,114)",
          "line": {
           "width": 2
          },
          "type": "rect",
          "x0": 46.75496770940339,
          "x1": 113.64021733311368,
          "y0": 0,
          "y1": 50.06918935942046
         },
         {
          "fillcolor": "rgb(128,177,211)",
          "line": {
           "width": 2
          },
          "type": "rect",
          "x0": 46.75496770940339,
          "x1": 113.64021733311368,
          "y0": 50.06918935942046,
          "y1": 112.06808767519092
         },
         {
          "fillcolor": "rgb(253,180,98)",
          "line": {
           "width": 2
          },
          "type": "rect",
          "x0": 46.75496770940339,
          "x1": 113.64021733311368,
          "y0": 112.06808767519092,
          "y1": 200
         },
         {
          "fillcolor": "rgb(179,222,105)",
          "line": {
           "width": 2
          },
          "type": "rect",
          "x0": 113.64021733311368,
          "x1": 310.2792310776647,
          "y0": 0,
          "y1": 200
         },
         {
          "fillcolor": "rgb(252,205,229)",
          "line": {
           "width": 2
          },
          "type": "rect",
          "x0": 310.2792310776647,
          "x1": 400,
          "y0": 0,
          "y1": 79.83193516694467
         },
         {
          "fillcolor": "rgb(217,217,217)",
          "line": {
           "width": 2
          },
          "type": "rect",
          "x0": 310.2792310776647,
          "x1": 400,
          "y0": 79.83193516694467,
          "y1": 97.333823208011
         },
         {
          "fillcolor": "rgb(188,128,189)",
          "line": {
           "width": 2
          },
          "type": "rect",
          "x0": 310.2792310776647,
          "x1": 400,
          "y0": 97.333823208011,
          "y1": 200.00000000000006
         }
        ],
        "width": 1000,
        "xaxis": {
         "showgrid": false,
         "zeroline": false
        },
        "yaxis": {
         "showgrid": false,
         "zeroline": false
        }
       }
      },
      "text/html": [
       "<div id=\"c69288cc-2494-48bd-af75-317fe0f9a28d\" style=\"height: 700px; width: 1000px;\" class=\"plotly-graph-div\"></div><script type=\"text/javascript\">require([\"plotly\"], function(Plotly) { window.PLOTLYENV=window.PLOTLYENV || {};window.PLOTLYENV.BASE_URL=\"https://plot.ly\";Plotly.newPlot(\"c69288cc-2494-48bd-af75-317fe0f9a28d\", [{\"type\": \"scatter\", \"x\": [23.377483854701694, 23.377483854701694, 23.377483854701694, 80.19759252125854, 80.19759252125854, 80.19759252125854, 211.9597242053892, 355.13961553883235, 355.13961553883235, 355.13961553883235], \"y\": [2.5339627750964078, 16.09091261311894, 113.55694983802255, 25.03459467971023, 81.06863851730569, 156.03404383759548, 100.0, 39.91596758347234, 88.58287918747783, 148.66691160400552], \"text\": [\"3689481656.0\", \"16049607738.0\", \"125862167746.0\", \"52144472686.0\", \"64568647928.0\", \"91576541564.0\", \"612360333172.0\", \"111526227388.0\", \"24450359888.0\", \"143425952960.0\"], \"mode\": \"text\"}], {\"height\": 700, \"width\": 1000, \"xaxis\": {\"showgrid\": false, \"zeroline\": false}, \"yaxis\": {\"showgrid\": false, \"zeroline\": false}, \"shapes\": [{\"type\": \"rect\", \"x0\": 0.0, \"y0\": 0.0, \"x1\": 46.75496770940339, \"y1\": 5.0679255501928155, \"line\": {\"width\": 2}, \"fillcolor\": \"rgb(141,211,199)\"}, {\"type\": \"rect\", \"x0\": 0.0, \"y0\": 5.0679255501928155, \"x1\": 46.75496770940339, \"y1\": 27.11389967604507, \"line\": {\"width\": 2}, \"fillcolor\": \"rgb(255,255,179)\"}, {\"type\": \"rect\", \"x0\": 0.0, \"y0\": 27.11389967604507, \"x1\": 46.75496770940339, \"y1\": 200.00000000000003, \"line\": {\"width\": 2}, \"fillcolor\": \"rgb(190,186,218)\"}, {\"type\": \"rect\", \"x0\": 46.75496770940339, \"y0\": 0.0, \"x1\": 113.64021733311368, \"y1\": 50.06918935942046, \"line\": {\"width\": 2}, \"fillcolor\": \"rgb(251,128,114)\"}, {\"type\": \"rect\", \"x0\": 46.75496770940339, \"y0\": 50.06918935942046, \"x1\": 113.64021733311368, \"y1\": 112.06808767519092, \"line\": {\"width\": 2}, \"fillcolor\": \"rgb(128,177,211)\"}, {\"type\": \"rect\", \"x0\": 46.75496770940339, \"y0\": 112.06808767519092, \"x1\": 113.64021733311368, \"y1\": 200.0, \"line\": {\"width\": 2}, \"fillcolor\": \"rgb(253,180,98)\"}, {\"type\": \"rect\", \"x0\": 113.64021733311368, \"y0\": 0.0, \"x1\": 310.2792310776647, \"y1\": 200.0, \"line\": {\"width\": 2}, \"fillcolor\": \"rgb(179,222,105)\"}, {\"type\": \"rect\", \"x0\": 310.2792310776647, \"y0\": 0.0, \"x1\": 400.0, \"y1\": 79.83193516694467, \"line\": {\"width\": 2}, \"fillcolor\": \"rgb(252,205,229)\"}, {\"type\": \"rect\", \"x0\": 310.2792310776647, \"y0\": 79.83193516694467, \"x1\": 400.0, \"y1\": 97.333823208011, \"line\": {\"width\": 2}, \"fillcolor\": \"rgb(217,217,217)\"}, {\"type\": \"rect\", \"x0\": 310.2792310776647, \"y0\": 97.333823208011, \"x1\": 400.0, \"y1\": 200.00000000000006, \"line\": {\"width\": 2}, \"fillcolor\": \"rgb(188,128,189)\"}], \"annotations\": [{\"x\": 23.377483854701694, \"y\": 2.5339627750964078, \"text\": \"ANIMAL AND VEGETABLE OILS, FATS AND WAXES\", \"showarrow\": false}, {\"x\": 23.377483854701694, \"y\": 16.09091261311894, \"text\": \"BEVERAGES AND TOBACCO\", \"showarrow\": false}, {\"x\": 23.377483854701694, \"y\": 113.55694983802255, \"text\": \"CHEMICALS AND RELATED PRODUCTS\", \"showarrow\": false}, {\"x\": 80.19759252125854, \"y\": 25.03459467971023, \"text\": \"COMMODITIES & TRANSACTIONS NOT CLASSIFIED ELSEWHER\", \"showarrow\": false}, {\"x\": 80.19759252125854, \"y\": 81.06863851730569, \"text\": \"CRUDE MATERIALS, INEDIBLE, EXCEPT FUELS\", \"showarrow\": false}, {\"x\": 80.19759252125854, \"y\": 156.03404383759548, \"text\": \"FOOD AND LIVE ANIMALS\", \"showarrow\": false}, {\"x\": 211.9597242053892, \"y\": 100.0, \"text\": \"MACHINERY AND TRANSPORT EQUIPMENT\", \"showarrow\": false}, {\"x\": 355.13961553883235, \"y\": 39.91596758347234, \"text\": \"MANUFACTURED GOODS CLASSIFIED CHIEFLY BY MATERIAL\", \"showarrow\": false}, {\"x\": 355.13961553883235, \"y\": 88.58287918747783, \"text\": \"MINERAL FUELS, LUBRICANTS AND RELATED MATERIALS\", \"showarrow\": false}, {\"x\": 355.13961553883235, \"y\": 148.66691160400552, \"text\": \"MISCELLANEOUS MANUFACTURED ARTICLES\", \"showarrow\": false}], \"hovermode\": \"closest\"}, {\"showLink\": true, \"linkText\": \"Export to plot.ly\"})});</script>"
      ],
      "text/vnd.plotly.v1+html": [
       "<div id=\"c69288cc-2494-48bd-af75-317fe0f9a28d\" style=\"height: 700px; width: 1000px;\" class=\"plotly-graph-div\"></div><script type=\"text/javascript\">require([\"plotly\"], function(Plotly) { window.PLOTLYENV=window.PLOTLYENV || {};window.PLOTLYENV.BASE_URL=\"https://plot.ly\";Plotly.newPlot(\"c69288cc-2494-48bd-af75-317fe0f9a28d\", [{\"type\": \"scatter\", \"x\": [23.377483854701694, 23.377483854701694, 23.377483854701694, 80.19759252125854, 80.19759252125854, 80.19759252125854, 211.9597242053892, 355.13961553883235, 355.13961553883235, 355.13961553883235], \"y\": [2.5339627750964078, 16.09091261311894, 113.55694983802255, 25.03459467971023, 81.06863851730569, 156.03404383759548, 100.0, 39.91596758347234, 88.58287918747783, 148.66691160400552], \"text\": [\"3689481656.0\", \"16049607738.0\", \"125862167746.0\", \"52144472686.0\", \"64568647928.0\", \"91576541564.0\", \"612360333172.0\", \"111526227388.0\", \"24450359888.0\", \"143425952960.0\"], \"mode\": \"text\"}], {\"height\": 700, \"width\": 1000, \"xaxis\": {\"showgrid\": false, \"zeroline\": false}, \"yaxis\": {\"showgrid\": false, \"zeroline\": false}, \"shapes\": [{\"type\": \"rect\", \"x0\": 0.0, \"y0\": 0.0, \"x1\": 46.75496770940339, \"y1\": 5.0679255501928155, \"line\": {\"width\": 2}, \"fillcolor\": \"rgb(141,211,199)\"}, {\"type\": \"rect\", \"x0\": 0.0, \"y0\": 5.0679255501928155, \"x1\": 46.75496770940339, \"y1\": 27.11389967604507, \"line\": {\"width\": 2}, \"fillcolor\": \"rgb(255,255,179)\"}, {\"type\": \"rect\", \"x0\": 0.0, \"y0\": 27.11389967604507, \"x1\": 46.75496770940339, \"y1\": 200.00000000000003, \"line\": {\"width\": 2}, \"fillcolor\": \"rgb(190,186,218)\"}, {\"type\": \"rect\", \"x0\": 46.75496770940339, \"y0\": 0.0, \"x1\": 113.64021733311368, \"y1\": 50.06918935942046, \"line\": {\"width\": 2}, \"fillcolor\": \"rgb(251,128,114)\"}, {\"type\": \"rect\", \"x0\": 46.75496770940339, \"y0\": 50.06918935942046, \"x1\": 113.64021733311368, \"y1\": 112.06808767519092, \"line\": {\"width\": 2}, \"fillcolor\": \"rgb(128,177,211)\"}, {\"type\": \"rect\", \"x0\": 46.75496770940339, \"y0\": 112.06808767519092, \"x1\": 113.64021733311368, \"y1\": 200.0, \"line\": {\"width\": 2}, \"fillcolor\": \"rgb(253,180,98)\"}, {\"type\": \"rect\", \"x0\": 113.64021733311368, \"y0\": 0.0, \"x1\": 310.2792310776647, \"y1\": 200.0, \"line\": {\"width\": 2}, \"fillcolor\": \"rgb(179,222,105)\"}, {\"type\": \"rect\", \"x0\": 310.2792310776647, \"y0\": 0.0, \"x1\": 400.0, \"y1\": 79.83193516694467, \"line\": {\"width\": 2}, \"fillcolor\": \"rgb(252,205,229)\"}, {\"type\": \"rect\", \"x0\": 310.2792310776647, \"y0\": 79.83193516694467, \"x1\": 400.0, \"y1\": 97.333823208011, \"line\": {\"width\": 2}, \"fillcolor\": \"rgb(217,217,217)\"}, {\"type\": \"rect\", \"x0\": 310.2792310776647, \"y0\": 97.333823208011, \"x1\": 400.0, \"y1\": 200.00000000000006, \"line\": {\"width\": 2}, \"fillcolor\": \"rgb(188,128,189)\"}], \"annotations\": [{\"x\": 23.377483854701694, \"y\": 2.5339627750964078, \"text\": \"ANIMAL AND VEGETABLE OILS, FATS AND WAXES\", \"showarrow\": false}, {\"x\": 23.377483854701694, \"y\": 16.09091261311894, \"text\": \"BEVERAGES AND TOBACCO\", \"showarrow\": false}, {\"x\": 23.377483854701694, \"y\": 113.55694983802255, \"text\": \"CHEMICALS AND RELATED PRODUCTS\", \"showarrow\": false}, {\"x\": 80.19759252125854, \"y\": 25.03459467971023, \"text\": \"COMMODITIES & TRANSACTIONS NOT CLASSIFIED ELSEWHER\", \"showarrow\": false}, {\"x\": 80.19759252125854, \"y\": 81.06863851730569, \"text\": \"CRUDE MATERIALS, INEDIBLE, EXCEPT FUELS\", \"showarrow\": false}, {\"x\": 80.19759252125854, \"y\": 156.03404383759548, \"text\": \"FOOD AND LIVE ANIMALS\", \"showarrow\": false}, {\"x\": 211.9597242053892, \"y\": 100.0, \"text\": \"MACHINERY AND TRANSPORT EQUIPMENT\", \"showarrow\": false}, {\"x\": 355.13961553883235, \"y\": 39.91596758347234, \"text\": \"MANUFACTURED GOODS CLASSIFIED CHIEFLY BY MATERIAL\", \"showarrow\": false}, {\"x\": 355.13961553883235, \"y\": 88.58287918747783, \"text\": \"MINERAL FUELS, LUBRICANTS AND RELATED MATERIALS\", \"showarrow\": false}, {\"x\": 355.13961553883235, \"y\": 148.66691160400552, \"text\": \"MISCELLANEOUS MANUFACTURED ARTICLES\", \"showarrow\": false}], \"hovermode\": \"closest\"}, {\"showLink\": true, \"linkText\": \"Export to plot.ly\"})});</script>"
      ]
     },
     "metadata": {},
     "output_type": "display_data"
    }
   ],
   "source": [
    "iplot(figure)"
   ]
  },
  {
   "cell_type": "markdown",
   "metadata": {},
   "source": [
    "### Dropdown"
   ]
  },
  {
   "cell_type": "code",
   "execution_count": 13,
   "metadata": {
    "collapsed": true
   },
   "outputs": [],
   "source": [
    "types = data.sitc_sdesc.unique()"
   ]
  },
  {
   "cell_type": "code",
   "execution_count": 14,
   "metadata": {
    "collapsed": true
   },
   "outputs": [],
   "source": [
    "titles = ['Food and Live Animals Export Amount', 'Beverages and Tobacco Export Amount',\n",
    "       'Crude Materials and Inedible (except Fuels) Export Amount',\n",
    "       'Mineral Fuels, Lubricants and Related materials Export Amount',\n",
    "       'Animal and Vegetable Oils, Fats, and Waxes Export Amount',\n",
    "       'Chemical and Related Products Export Amount',\n",
    "       'Manufactured Goods classified chiefly by Material Export Amount',\n",
    "       'Machinery and Transport Equipment Export Amount',\n",
    "       'Miscellaneous Manufactured Articles Export Amount',\n",
    "       'Commodities and Transactions not classified elsewhere Export Amount']"
   ]
  },
  {
   "cell_type": "code",
   "execution_count": 15,
   "metadata": {
    "collapsed": true
   },
   "outputs": [],
   "source": [
    "button_names = [\n",
    "        'Food & Live Animals', \n",
    "        'Bev & Tobacco',\n",
    "       'Crude Materials',\n",
    "       'Mineral Fuels & Lubs',\n",
    "       'Animal & Vegie Oils',\n",
    "       'Chemicals',\n",
    "       'Mfg. Goods',\n",
    "       'Machinery & Transport',\n",
    "       'Misc. Mfg. Articles',\n",
    "       'Unclassified']"
   ]
  },
  {
   "cell_type": "code",
   "execution_count": 16,
   "metadata": {
    "collapsed": true
   },
   "outputs": [],
   "source": [
    "Data = []\n",
    "counter = 0\n",
    "for item in types:\n",
    "    graph = go.Bar(\n",
    "        x=data[data['sitc_sdesc']==item].groupby('Year')['ExportsFASValueBasisYtdDec'].sum().index,\n",
    "        y=data[data['sitc_sdesc']==item].groupby('Year')['ExportsFASValueBasisYtdDec'].sum().values,\n",
    "        name = button_names[counter]\n",
    "    )\n",
    "    counter += 1\n",
    "    Data.append(graph)"
   ]
  },
  {
   "cell_type": "code",
   "execution_count": 17,
   "metadata": {
    "collapsed": true
   },
   "outputs": [],
   "source": [
    "buttons = []\n",
    "counter = 0\n",
    "for item in button_names:\n",
    "    vis = [False]*10\n",
    "    vis[counter] = True\n",
    "    button = dict(label = item,\n",
    "                  method = 'update',\n",
    "                  args = [{'visible': vis},\n",
    "                          {'title': titles[counter]}])\n",
    "    buttons.append(button)\n",
    "    counter += 1"
   ]
  },
  {
   "cell_type": "code",
   "execution_count": 18,
   "metadata": {
    "collapsed": true
   },
   "outputs": [],
   "source": [
    "updatemenus = list([\n",
    "    dict(active=-1,\n",
    "         buttons=buttons,\n",
    "        direction='down',\n",
    "        x = 1.2,\n",
    "        xanchor = 'right',\n",
    "        y = 1.2,\n",
    "        yanchor = 'top')\n",
    "])\n"
   ]
  },
  {
   "cell_type": "code",
   "execution_count": 19,
   "metadata": {
    "collapsed": true
   },
   "outputs": [],
   "source": [
    "layout = dict(title='US Exports Amount by Product Types', \n",
    "              showlegend=True,\n",
    "              updatemenus=updatemenus,\n",
    "             xaxis={'title': 'Year'},\n",
    "             yaxis={'title': 'USD'})"
   ]
  },
  {
   "cell_type": "code",
   "execution_count": 20,
   "metadata": {
    "collapsed": true
   },
   "outputs": [],
   "source": [
    "fig = dict(data=Data, layout=layout)"
   ]
  },
  {
   "cell_type": "code",
   "execution_count": 21,
   "metadata": {},
   "outputs": [
    {
     "data": {
      "application/vnd.plotly.v1+json": {
       "data": [
        {
         "name": "Food & Live Animals",
         "type": "bar",
         "x": [
          1996,
          1997,
          1998,
          1999,
          2000,
          2001,
          2002,
          2003,
          2004,
          2005,
          2006,
          2007,
          2008,
          2009,
          2010,
          2011,
          2012,
          2013,
          2014,
          2015,
          2016,
          2017,
          2018
         ],
         "y": [
          91576541564,
          82551539552,
          76635845460,
          76473821630,
          80526299416,
          82346422910,
          80590367348,
          86550687690,
          91134994780,
          96931616894,
          108364318830,
          136585335102,
          171501416262,
          143205160866,
          165330968576,
          203179969834,
          200808435465,
          214020094240,
          225245874308,
          203070440895,
          199594695260,
          205824328324,
          32213119274
         ]
        },
        {
         "name": "Bev & Tobacco",
         "type": "bar",
         "x": [
          1996,
          1997,
          1998,
          1999,
          2000,
          2001,
          2002,
          2003,
          2004,
          2005,
          2006,
          2007,
          2008,
          2009,
          2010,
          2011,
          2012,
          2013,
          2014,
          2015,
          2016,
          2017,
          2018
         ],
         "y": [
          16049607738,
          16125848400,
          15666232286,
          13528713232,
          13641625550,
          11289307540,
          9341565354,
          9575146348,
          9580711248,
          8974894964,
          10173242194,
          10750725498,
          10936480738,
          9997567712,
          10914208520,
          12338051980,
          13109484248,
          14447361098,
          14577672406,
          15597154704,
          15687323296,
          15941491312,
          2250489046
         ]
        },
        {
         "name": "Crude Materials",
         "type": "bar",
         "x": [
          1996,
          1997,
          1998,
          1999,
          2000,
          2001,
          2002,
          2003,
          2004,
          2005,
          2006,
          2007,
          2008,
          2009,
          2010,
          2011,
          2012,
          2013,
          2014,
          2015,
          2016,
          2017,
          2018
         ],
         "y": [
          64568647928,
          64406782632,
          52518757628,
          48355261174,
          58063614560,
          56159231092,
          56256997390,
          67090243880,
          74106212618,
          82541334442,
          100307366752,
          124946764760,
          152924045132,
          123391488364,
          162103348984,
          183288434742,
          183643658610,
          173367051020,
          173862367014,
          146494836302,
          145117097774,
          156056694114,
          27393872704
         ]
        },
        {
         "name": "Mineral Fuels & Lubs",
         "type": "bar",
         "x": [
          1996,
          1997,
          1998,
          1999,
          2000,
          2001,
          2002,
          2003,
          2004,
          2005,
          2006,
          2007,
          2008,
          2009,
          2010,
          2011,
          2012,
          2013,
          2014,
          2015,
          2016,
          2017,
          2018
         ],
         "y": [
          24450359888,
          25243790956,
          20139589036,
          19852315030,
          26679448970,
          25730637490,
          23378919414,
          28093538004,
          38033052702,
          53291700342,
          69675067970,
          84378967592,
          153483425612,
          109696623860,
          162571243314,
          260606097444,
          274278492881,
          297507903336,
          312511651599,
          208986403649,
          187228362484,
          275799673678,
          52339048072
         ]
        },
        {
         "name": "Animal & Vegie Oils",
         "type": "bar",
         "x": [
          1996,
          1997,
          1998,
          1999,
          2000,
          2001,
          2002,
          2003,
          2004,
          2005,
          2006,
          2007,
          2008,
          2009,
          2010,
          2011,
          2012,
          2013,
          2014,
          2015,
          2016,
          2017,
          2018
         ],
         "y": [
          3689481656,
          4401759060,
          5550749106,
          3869254556,
          2878125238,
          2757111728,
          3830256578,
          4024773676,
          4006971220,
          3670509180,
          4152377994,
          5715929226,
          8860399980,
          6433769610,
          8562062024,
          9109722830,
          8390557372,
          6688786506,
          5965403090,
          5570968066,
          5667509880,
          5990596490,
          910664616
         ]
        },
        {
         "name": "Chemicals",
         "type": "bar",
         "x": [
          1996,
          1997,
          1998,
          1999,
          2000,
          2001,
          2002,
          2003,
          2004,
          2005,
          2006,
          2007,
          2008,
          2009,
          2010,
          2011,
          2012,
          2013,
          2014,
          2015,
          2016,
          2017,
          2018
         ],
         "y": [
          125862167746,
          141653278706,
          138540227960,
          143977691698,
          165084106984,
          164644909390,
          167186504716,
          188306105192,
          226217578992,
          247813589214,
          277913813740,
          317584290767,
          359473563954,
          319783990431,
          378661880540,
          414921933528,
          414651560913,
          418608254410,
          424718046443,
          412937935844,
          395465779735,
          413320030108,
          68079571356
         ]
        },
        {
         "name": "Mfg. Goods",
         "type": "bar",
         "x": [
          1996,
          1997,
          1998,
          1999,
          2000,
          2001,
          2002,
          2003,
          2004,
          2005,
          2006,
          2007,
          2008,
          2009,
          2010,
          2011,
          2012,
          2013,
          2014,
          2015,
          2016,
          2017,
          2018
         ],
         "y": [
          111526227388,
          124554506308,
          123608823094,
          124314036996,
          143979967174,
          133315540248,
          130118242662,
          135392986592,
          157242668692,
          178048256836,
          206564129976,
          224846016350,
          249528392762,
          189440192756,
          239396114232,
          279898152362,
          283830219389,
          289874497179,
          301091590653,
          275570482399,
          264282302048,
          274594287205,
          47386049020
         ]
        },
        {
         "name": "Machinery & Transport",
         "type": "bar",
         "x": [
          1996,
          1997,
          1998,
          1999,
          2000,
          2001,
          2002,
          2003,
          2004,
          2005,
          2006,
          2007,
          2008,
          2009,
          2010,
          2011,
          2012,
          2013,
          2014,
          2015,
          2016,
          2017,
          2018
         ],
         "y": [
          612360333172,
          705281588978,
          716336340455,
          738239724128,
          824399672161,
          750135921850,
          699471880613,
          703513971676,
          784058480010,
          863796144717,
          971016653420,
          1049712042922,
          1094030139464,
          882854304077,
          1043743812180,
          1165405996886,
          1252979996335,
          1276838240375,
          1330152039643,
          1292966058154,
          1252577759564,
          1291393852567,
          200632415121
         ]
        },
        {
         "name": "Misc. Mfg. Articles",
         "type": "bar",
         "x": [
          1996,
          1997,
          1998,
          1999,
          2000,
          2001,
          2002,
          2003,
          2004,
          2005,
          2006,
          2007,
          2008,
          2009,
          2010,
          2011,
          2012,
          2013,
          2014,
          2015,
          2016,
          2017,
          2018
         ],
         "y": [
          143425952960,
          158173882412,
          159377933544,
          163259871316,
          186367384986,
          177048033748,
          164274896202,
          169728382786,
          190069998918,
          205648360476,
          229829770649,
          251966384617,
          265348220273,
          239887530052,
          267961688132,
          287788115573,
          303522348728,
          313004169129,
          323193564296,
          318950248844,
          314905725942,
          321889982066,
          53201067606
         ]
        },
        {
         "name": "Unclassified",
         "type": "bar",
         "x": [
          1996,
          1997,
          1998,
          1999,
          2000,
          2001,
          2002,
          2003,
          2004,
          2005,
          2006,
          2007,
          2008,
          2009,
          2010,
          2011,
          2012,
          2013,
          2014,
          2015,
          2016,
          2017,
          2018
         ],
         "y": [
          52144472686,
          52803431126,
          52573655992,
          53414408734,
          59217338094,
          58624774632,
          52065088526,
          55210546464,
          55298579128,
          61447764468,
          73938432344,
          89909779658,
          108797424630,
          87395473768,
          117281950588,
          148478528388,
          156426791892,
          152676384386,
          132430387954,
          126057347624,
          121494745156,
          132654669028,
          22447292146
         ]
        }
       ],
       "layout": {
        "showlegend": true,
        "title": "US Exports Amount by Product Types",
        "updatemenus": [
         {
          "active": -1,
          "buttons": [
           {
            "args": [
             {
              "visible": [
               true,
               false,
               false,
               false,
               false,
               false,
               false,
               false,
               false,
               false
              ]
             },
             {
              "title": "Food and Live Animals Export Amount"
             }
            ],
            "label": "Food & Live Animals",
            "method": "update"
           },
           {
            "args": [
             {
              "visible": [
               false,
               true,
               false,
               false,
               false,
               false,
               false,
               false,
               false,
               false
              ]
             },
             {
              "title": "Beverages and Tobacco Export Amount"
             }
            ],
            "label": "Bev & Tobacco",
            "method": "update"
           },
           {
            "args": [
             {
              "visible": [
               false,
               false,
               true,
               false,
               false,
               false,
               false,
               false,
               false,
               false
              ]
             },
             {
              "title": "Crude Materials and Inedible (except Fuels) Export Amount"
             }
            ],
            "label": "Crude Materials",
            "method": "update"
           },
           {
            "args": [
             {
              "visible": [
               false,
               false,
               false,
               true,
               false,
               false,
               false,
               false,
               false,
               false
              ]
             },
             {
              "title": "Mineral Fuels, Lubricants and Related materials Export Amount"
             }
            ],
            "label": "Mineral Fuels & Lubs",
            "method": "update"
           },
           {
            "args": [
             {
              "visible": [
               false,
               false,
               false,
               false,
               true,
               false,
               false,
               false,
               false,
               false
              ]
             },
             {
              "title": "Animal and Vegetable Oils, Fats, and Waxes Export Amount"
             }
            ],
            "label": "Animal & Vegie Oils",
            "method": "update"
           },
           {
            "args": [
             {
              "visible": [
               false,
               false,
               false,
               false,
               false,
               true,
               false,
               false,
               false,
               false
              ]
             },
             {
              "title": "Chemical and Related Products Export Amount"
             }
            ],
            "label": "Chemicals",
            "method": "update"
           },
           {
            "args": [
             {
              "visible": [
               false,
               false,
               false,
               false,
               false,
               false,
               true,
               false,
               false,
               false
              ]
             },
             {
              "title": "Manufactured Goods classified chiefly by Material Export Amount"
             }
            ],
            "label": "Mfg. Goods",
            "method": "update"
           },
           {
            "args": [
             {
              "visible": [
               false,
               false,
               false,
               false,
               false,
               false,
               false,
               true,
               false,
               false
              ]
             },
             {
              "title": "Machinery and Transport Equipment Export Amount"
             }
            ],
            "label": "Machinery & Transport",
            "method": "update"
           },
           {
            "args": [
             {
              "visible": [
               false,
               false,
               false,
               false,
               false,
               false,
               false,
               false,
               true,
               false
              ]
             },
             {
              "title": "Miscellaneous Manufactured Articles Export Amount"
             }
            ],
            "label": "Misc. Mfg. Articles",
            "method": "update"
           },
           {
            "args": [
             {
              "visible": [
               false,
               false,
               false,
               false,
               false,
               false,
               false,
               false,
               false,
               true
              ]
             },
             {
              "title": "Commodities and Transactions not classified elsewhere Export Amount"
             }
            ],
            "label": "Unclassified",
            "method": "update"
           }
          ],
          "direction": "down",
          "x": 1.2,
          "xanchor": "right",
          "y": 1.2,
          "yanchor": "top"
         }
        ],
        "xaxis": {
         "title": "Year"
        },
        "yaxis": {
         "title": "USD"
        }
       }
      },
      "text/html": [
       "<div id=\"d6e92ade-2c75-4803-a610-67a0d8cbc7ef\" style=\"height: 525px; width: 100%;\" class=\"plotly-graph-div\"></div><script type=\"text/javascript\">require([\"plotly\"], function(Plotly) { window.PLOTLYENV=window.PLOTLYENV || {};window.PLOTLYENV.BASE_URL=\"https://plot.ly\";Plotly.newPlot(\"d6e92ade-2c75-4803-a610-67a0d8cbc7ef\", [{\"type\": \"bar\", \"x\": [1996, 1997, 1998, 1999, 2000, 2001, 2002, 2003, 2004, 2005, 2006, 2007, 2008, 2009, 2010, 2011, 2012, 2013, 2014, 2015, 2016, 2017, 2018], \"y\": [91576541564.0, 82551539552.0, 76635845460.0, 76473821630.0, 80526299416.0, 82346422910.0, 80590367348.0, 86550687690.0, 91134994780.0, 96931616894.0, 108364318830.0, 136585335102.0, 171501416262.0, 143205160866.0, 165330968576.0, 203179969834.0, 200808435465.0, 214020094240.0, 225245874308.0, 203070440895.0, 199594695260.0, 205824328324.0, 32213119274.0], \"name\": \"Food & Live Animals\"}, {\"type\": \"bar\", \"x\": [1996, 1997, 1998, 1999, 2000, 2001, 2002, 2003, 2004, 2005, 2006, 2007, 2008, 2009, 2010, 2011, 2012, 2013, 2014, 2015, 2016, 2017, 2018], \"y\": [16049607738.0, 16125848400.0, 15666232286.0, 13528713232.0, 13641625550.0, 11289307540.0, 9341565354.0, 9575146348.0, 9580711248.0, 8974894964.0, 10173242194.0, 10750725498.0, 10936480738.0, 9997567712.0, 10914208520.0, 12338051980.0, 13109484248.0, 14447361098.0, 14577672406.0, 15597154704.0, 15687323296.0, 15941491312.0, 2250489046.0], \"name\": \"Bev & Tobacco\"}, {\"type\": \"bar\", \"x\": [1996, 1997, 1998, 1999, 2000, 2001, 2002, 2003, 2004, 2005, 2006, 2007, 2008, 2009, 2010, 2011, 2012, 2013, 2014, 2015, 2016, 2017, 2018], \"y\": [64568647928.0, 64406782632.0, 52518757628.0, 48355261174.0, 58063614560.0, 56159231092.0, 56256997390.0, 67090243880.0, 74106212618.0, 82541334442.0, 100307366752.0, 124946764760.0, 152924045132.0, 123391488364.0, 162103348984.0, 183288434742.0, 183643658610.0, 173367051020.0, 173862367014.0, 146494836302.0, 145117097774.0, 156056694114.0, 27393872704.0], \"name\": \"Crude Materials\"}, {\"type\": \"bar\", \"x\": [1996, 1997, 1998, 1999, 2000, 2001, 2002, 2003, 2004, 2005, 2006, 2007, 2008, 2009, 2010, 2011, 2012, 2013, 2014, 2015, 2016, 2017, 2018], \"y\": [24450359888.0, 25243790956.0, 20139589036.0, 19852315030.0, 26679448970.0, 25730637490.0, 23378919414.0, 28093538004.0, 38033052702.0, 53291700342.0, 69675067970.0, 84378967592.0, 153483425612.0, 109696623860.0, 162571243314.0, 260606097444.0, 274278492881.0, 297507903336.0, 312511651599.0, 208986403649.0, 187228362484.0, 275799673678.0, 52339048072.0], \"name\": \"Mineral Fuels & Lubs\"}, {\"type\": \"bar\", \"x\": [1996, 1997, 1998, 1999, 2000, 2001, 2002, 2003, 2004, 2005, 2006, 2007, 2008, 2009, 2010, 2011, 2012, 2013, 2014, 2015, 2016, 2017, 2018], \"y\": [3689481656.0, 4401759060.0, 5550749106.0, 3869254556.0, 2878125238.0, 2757111728.0, 3830256578.0, 4024773676.0, 4006971220.0, 3670509180.0, 4152377994.0, 5715929226.0, 8860399980.0, 6433769610.0, 8562062024.0, 9109722830.0, 8390557372.0, 6688786506.0, 5965403090.0, 5570968066.0, 5667509880.0, 5990596490.0, 910664616.0], \"name\": \"Animal & Vegie Oils\"}, {\"type\": \"bar\", \"x\": [1996, 1997, 1998, 1999, 2000, 2001, 2002, 2003, 2004, 2005, 2006, 2007, 2008, 2009, 2010, 2011, 2012, 2013, 2014, 2015, 2016, 2017, 2018], \"y\": [125862167746.0, 141653278706.0, 138540227960.0, 143977691698.0, 165084106984.0, 164644909390.0, 167186504716.0, 188306105192.0, 226217578992.0, 247813589214.0, 277913813740.0, 317584290767.0, 359473563954.0, 319783990431.0, 378661880540.0, 414921933528.0, 414651560913.0, 418608254410.0, 424718046443.0, 412937935844.0, 395465779735.0, 413320030108.0, 68079571356.0], \"name\": \"Chemicals\"}, {\"type\": \"bar\", \"x\": [1996, 1997, 1998, 1999, 2000, 2001, 2002, 2003, 2004, 2005, 2006, 2007, 2008, 2009, 2010, 2011, 2012, 2013, 2014, 2015, 2016, 2017, 2018], \"y\": [111526227388.0, 124554506308.0, 123608823094.0, 124314036996.0, 143979967174.0, 133315540248.0, 130118242662.0, 135392986592.0, 157242668692.0, 178048256836.0, 206564129976.0, 224846016350.0, 249528392762.0, 189440192756.0, 239396114232.0, 279898152362.0, 283830219389.0, 289874497179.0, 301091590653.0, 275570482399.0, 264282302048.0, 274594287205.0, 47386049020.0], \"name\": \"Mfg. Goods\"}, {\"type\": \"bar\", \"x\": [1996, 1997, 1998, 1999, 2000, 2001, 2002, 2003, 2004, 2005, 2006, 2007, 2008, 2009, 2010, 2011, 2012, 2013, 2014, 2015, 2016, 2017, 2018], \"y\": [612360333172.0, 705281588978.0, 716336340455.0, 738239724128.0, 824399672161.0, 750135921850.0, 699471880613.0, 703513971676.0, 784058480010.0, 863796144717.0, 971016653420.0, 1049712042922.0, 1094030139464.0, 882854304077.0, 1043743812180.0, 1165405996886.0, 1252979996335.0, 1276838240375.0, 1330152039643.0, 1292966058154.0, 1252577759564.0, 1291393852567.0, 200632415121.0], \"name\": \"Machinery & Transport\"}, {\"type\": \"bar\", \"x\": [1996, 1997, 1998, 1999, 2000, 2001, 2002, 2003, 2004, 2005, 2006, 2007, 2008, 2009, 2010, 2011, 2012, 2013, 2014, 2015, 2016, 2017, 2018], \"y\": [143425952960.0, 158173882412.0, 159377933544.0, 163259871316.0, 186367384986.0, 177048033748.0, 164274896202.0, 169728382786.0, 190069998918.0, 205648360476.0, 229829770649.0, 251966384617.0, 265348220273.0, 239887530052.0, 267961688132.0, 287788115573.0, 303522348728.0, 313004169129.0, 323193564296.0, 318950248844.0, 314905725942.0, 321889982066.0, 53201067606.0], \"name\": \"Misc. Mfg. Articles\"}, {\"type\": \"bar\", \"x\": [1996, 1997, 1998, 1999, 2000, 2001, 2002, 2003, 2004, 2005, 2006, 2007, 2008, 2009, 2010, 2011, 2012, 2013, 2014, 2015, 2016, 2017, 2018], \"y\": [52144472686.0, 52803431126.0, 52573655992.0, 53414408734.0, 59217338094.0, 58624774632.0, 52065088526.0, 55210546464.0, 55298579128.0, 61447764468.0, 73938432344.0, 89909779658.0, 108797424630.0, 87395473768.0, 117281950588.0, 148478528388.0, 156426791892.0, 152676384386.0, 132430387954.0, 126057347624.0, 121494745156.0, 132654669028.0, 22447292146.0], \"name\": \"Unclassified\"}], {\"title\": \"US Exports Amount by Product Types\", \"showlegend\": true, \"updatemenus\": [{\"active\": -1, \"buttons\": [{\"label\": \"Food & Live Animals\", \"method\": \"update\", \"args\": [{\"visible\": [true, false, false, false, false, false, false, false, false, false]}, {\"title\": \"Food and Live Animals Export Amount\"}]}, {\"label\": \"Bev & Tobacco\", \"method\": \"update\", \"args\": [{\"visible\": [false, true, false, false, false, false, false, false, false, false]}, {\"title\": \"Beverages and Tobacco Export Amount\"}]}, {\"label\": \"Crude Materials\", \"method\": \"update\", \"args\": [{\"visible\": [false, false, true, false, false, false, false, false, false, false]}, {\"title\": \"Crude Materials and Inedible (except Fuels) Export Amount\"}]}, {\"label\": \"Mineral Fuels & Lubs\", \"method\": \"update\", \"args\": [{\"visible\": [false, false, false, true, false, false, false, false, false, false]}, {\"title\": \"Mineral Fuels, Lubricants and Related materials Export Amount\"}]}, {\"label\": \"Animal & Vegie Oils\", \"method\": \"update\", \"args\": [{\"visible\": [false, false, false, false, true, false, false, false, false, false]}, {\"title\": \"Animal and Vegetable Oils, Fats, and Waxes Export Amount\"}]}, {\"label\": \"Chemicals\", \"method\": \"update\", \"args\": [{\"visible\": [false, false, false, false, false, true, false, false, false, false]}, {\"title\": \"Chemical and Related Products Export Amount\"}]}, {\"label\": \"Mfg. Goods\", \"method\": \"update\", \"args\": [{\"visible\": [false, false, false, false, false, false, true, false, false, false]}, {\"title\": \"Manufactured Goods classified chiefly by Material Export Amount\"}]}, {\"label\": \"Machinery & Transport\", \"method\": \"update\", \"args\": [{\"visible\": [false, false, false, false, false, false, false, true, false, false]}, {\"title\": \"Machinery and Transport Equipment Export Amount\"}]}, {\"label\": \"Misc. Mfg. Articles\", \"method\": \"update\", \"args\": [{\"visible\": [false, false, false, false, false, false, false, false, true, false]}, {\"title\": \"Miscellaneous Manufactured Articles Export Amount\"}]}, {\"label\": \"Unclassified\", \"method\": \"update\", \"args\": [{\"visible\": [false, false, false, false, false, false, false, false, false, true]}, {\"title\": \"Commodities and Transactions not classified elsewhere Export Amount\"}]}], \"direction\": \"down\", \"x\": 1.2, \"xanchor\": \"right\", \"y\": 1.2, \"yanchor\": \"top\"}], \"xaxis\": {\"title\": \"Year\"}, \"yaxis\": {\"title\": \"USD\"}}, {\"showLink\": true, \"linkText\": \"Export to plot.ly\"})});</script>"
      ],
      "text/vnd.plotly.v1+html": [
       "<div id=\"d6e92ade-2c75-4803-a610-67a0d8cbc7ef\" style=\"height: 525px; width: 100%;\" class=\"plotly-graph-div\"></div><script type=\"text/javascript\">require([\"plotly\"], function(Plotly) { window.PLOTLYENV=window.PLOTLYENV || {};window.PLOTLYENV.BASE_URL=\"https://plot.ly\";Plotly.newPlot(\"d6e92ade-2c75-4803-a610-67a0d8cbc7ef\", [{\"type\": \"bar\", \"x\": [1996, 1997, 1998, 1999, 2000, 2001, 2002, 2003, 2004, 2005, 2006, 2007, 2008, 2009, 2010, 2011, 2012, 2013, 2014, 2015, 2016, 2017, 2018], \"y\": [91576541564.0, 82551539552.0, 76635845460.0, 76473821630.0, 80526299416.0, 82346422910.0, 80590367348.0, 86550687690.0, 91134994780.0, 96931616894.0, 108364318830.0, 136585335102.0, 171501416262.0, 143205160866.0, 165330968576.0, 203179969834.0, 200808435465.0, 214020094240.0, 225245874308.0, 203070440895.0, 199594695260.0, 205824328324.0, 32213119274.0], \"name\": \"Food & Live Animals\"}, {\"type\": \"bar\", \"x\": [1996, 1997, 1998, 1999, 2000, 2001, 2002, 2003, 2004, 2005, 2006, 2007, 2008, 2009, 2010, 2011, 2012, 2013, 2014, 2015, 2016, 2017, 2018], \"y\": [16049607738.0, 16125848400.0, 15666232286.0, 13528713232.0, 13641625550.0, 11289307540.0, 9341565354.0, 9575146348.0, 9580711248.0, 8974894964.0, 10173242194.0, 10750725498.0, 10936480738.0, 9997567712.0, 10914208520.0, 12338051980.0, 13109484248.0, 14447361098.0, 14577672406.0, 15597154704.0, 15687323296.0, 15941491312.0, 2250489046.0], \"name\": \"Bev & Tobacco\"}, {\"type\": \"bar\", \"x\": [1996, 1997, 1998, 1999, 2000, 2001, 2002, 2003, 2004, 2005, 2006, 2007, 2008, 2009, 2010, 2011, 2012, 2013, 2014, 2015, 2016, 2017, 2018], \"y\": [64568647928.0, 64406782632.0, 52518757628.0, 48355261174.0, 58063614560.0, 56159231092.0, 56256997390.0, 67090243880.0, 74106212618.0, 82541334442.0, 100307366752.0, 124946764760.0, 152924045132.0, 123391488364.0, 162103348984.0, 183288434742.0, 183643658610.0, 173367051020.0, 173862367014.0, 146494836302.0, 145117097774.0, 156056694114.0, 27393872704.0], \"name\": \"Crude Materials\"}, {\"type\": \"bar\", \"x\": [1996, 1997, 1998, 1999, 2000, 2001, 2002, 2003, 2004, 2005, 2006, 2007, 2008, 2009, 2010, 2011, 2012, 2013, 2014, 2015, 2016, 2017, 2018], \"y\": [24450359888.0, 25243790956.0, 20139589036.0, 19852315030.0, 26679448970.0, 25730637490.0, 23378919414.0, 28093538004.0, 38033052702.0, 53291700342.0, 69675067970.0, 84378967592.0, 153483425612.0, 109696623860.0, 162571243314.0, 260606097444.0, 274278492881.0, 297507903336.0, 312511651599.0, 208986403649.0, 187228362484.0, 275799673678.0, 52339048072.0], \"name\": \"Mineral Fuels & Lubs\"}, {\"type\": \"bar\", \"x\": [1996, 1997, 1998, 1999, 2000, 2001, 2002, 2003, 2004, 2005, 2006, 2007, 2008, 2009, 2010, 2011, 2012, 2013, 2014, 2015, 2016, 2017, 2018], \"y\": [3689481656.0, 4401759060.0, 5550749106.0, 3869254556.0, 2878125238.0, 2757111728.0, 3830256578.0, 4024773676.0, 4006971220.0, 3670509180.0, 4152377994.0, 5715929226.0, 8860399980.0, 6433769610.0, 8562062024.0, 9109722830.0, 8390557372.0, 6688786506.0, 5965403090.0, 5570968066.0, 5667509880.0, 5990596490.0, 910664616.0], \"name\": \"Animal & Vegie Oils\"}, {\"type\": \"bar\", \"x\": [1996, 1997, 1998, 1999, 2000, 2001, 2002, 2003, 2004, 2005, 2006, 2007, 2008, 2009, 2010, 2011, 2012, 2013, 2014, 2015, 2016, 2017, 2018], \"y\": [125862167746.0, 141653278706.0, 138540227960.0, 143977691698.0, 165084106984.0, 164644909390.0, 167186504716.0, 188306105192.0, 226217578992.0, 247813589214.0, 277913813740.0, 317584290767.0, 359473563954.0, 319783990431.0, 378661880540.0, 414921933528.0, 414651560913.0, 418608254410.0, 424718046443.0, 412937935844.0, 395465779735.0, 413320030108.0, 68079571356.0], \"name\": \"Chemicals\"}, {\"type\": \"bar\", \"x\": [1996, 1997, 1998, 1999, 2000, 2001, 2002, 2003, 2004, 2005, 2006, 2007, 2008, 2009, 2010, 2011, 2012, 2013, 2014, 2015, 2016, 2017, 2018], \"y\": [111526227388.0, 124554506308.0, 123608823094.0, 124314036996.0, 143979967174.0, 133315540248.0, 130118242662.0, 135392986592.0, 157242668692.0, 178048256836.0, 206564129976.0, 224846016350.0, 249528392762.0, 189440192756.0, 239396114232.0, 279898152362.0, 283830219389.0, 289874497179.0, 301091590653.0, 275570482399.0, 264282302048.0, 274594287205.0, 47386049020.0], \"name\": \"Mfg. Goods\"}, {\"type\": \"bar\", \"x\": [1996, 1997, 1998, 1999, 2000, 2001, 2002, 2003, 2004, 2005, 2006, 2007, 2008, 2009, 2010, 2011, 2012, 2013, 2014, 2015, 2016, 2017, 2018], \"y\": [612360333172.0, 705281588978.0, 716336340455.0, 738239724128.0, 824399672161.0, 750135921850.0, 699471880613.0, 703513971676.0, 784058480010.0, 863796144717.0, 971016653420.0, 1049712042922.0, 1094030139464.0, 882854304077.0, 1043743812180.0, 1165405996886.0, 1252979996335.0, 1276838240375.0, 1330152039643.0, 1292966058154.0, 1252577759564.0, 1291393852567.0, 200632415121.0], \"name\": \"Machinery & Transport\"}, {\"type\": \"bar\", \"x\": [1996, 1997, 1998, 1999, 2000, 2001, 2002, 2003, 2004, 2005, 2006, 2007, 2008, 2009, 2010, 2011, 2012, 2013, 2014, 2015, 2016, 2017, 2018], \"y\": [143425952960.0, 158173882412.0, 159377933544.0, 163259871316.0, 186367384986.0, 177048033748.0, 164274896202.0, 169728382786.0, 190069998918.0, 205648360476.0, 229829770649.0, 251966384617.0, 265348220273.0, 239887530052.0, 267961688132.0, 287788115573.0, 303522348728.0, 313004169129.0, 323193564296.0, 318950248844.0, 314905725942.0, 321889982066.0, 53201067606.0], \"name\": \"Misc. Mfg. Articles\"}, {\"type\": \"bar\", \"x\": [1996, 1997, 1998, 1999, 2000, 2001, 2002, 2003, 2004, 2005, 2006, 2007, 2008, 2009, 2010, 2011, 2012, 2013, 2014, 2015, 2016, 2017, 2018], \"y\": [52144472686.0, 52803431126.0, 52573655992.0, 53414408734.0, 59217338094.0, 58624774632.0, 52065088526.0, 55210546464.0, 55298579128.0, 61447764468.0, 73938432344.0, 89909779658.0, 108797424630.0, 87395473768.0, 117281950588.0, 148478528388.0, 156426791892.0, 152676384386.0, 132430387954.0, 126057347624.0, 121494745156.0, 132654669028.0, 22447292146.0], \"name\": \"Unclassified\"}], {\"title\": \"US Exports Amount by Product Types\", \"showlegend\": true, \"updatemenus\": [{\"active\": -1, \"buttons\": [{\"label\": \"Food & Live Animals\", \"method\": \"update\", \"args\": [{\"visible\": [true, false, false, false, false, false, false, false, false, false]}, {\"title\": \"Food and Live Animals Export Amount\"}]}, {\"label\": \"Bev & Tobacco\", \"method\": \"update\", \"args\": [{\"visible\": [false, true, false, false, false, false, false, false, false, false]}, {\"title\": \"Beverages and Tobacco Export Amount\"}]}, {\"label\": \"Crude Materials\", \"method\": \"update\", \"args\": [{\"visible\": [false, false, true, false, false, false, false, false, false, false]}, {\"title\": \"Crude Materials and Inedible (except Fuels) Export Amount\"}]}, {\"label\": \"Mineral Fuels & Lubs\", \"method\": \"update\", \"args\": [{\"visible\": [false, false, false, true, false, false, false, false, false, false]}, {\"title\": \"Mineral Fuels, Lubricants and Related materials Export Amount\"}]}, {\"label\": \"Animal & Vegie Oils\", \"method\": \"update\", \"args\": [{\"visible\": [false, false, false, false, true, false, false, false, false, false]}, {\"title\": \"Animal and Vegetable Oils, Fats, and Waxes Export Amount\"}]}, {\"label\": \"Chemicals\", \"method\": \"update\", \"args\": [{\"visible\": [false, false, false, false, false, true, false, false, false, false]}, {\"title\": \"Chemical and Related Products Export Amount\"}]}, {\"label\": \"Mfg. Goods\", \"method\": \"update\", \"args\": [{\"visible\": [false, false, false, false, false, false, true, false, false, false]}, {\"title\": \"Manufactured Goods classified chiefly by Material Export Amount\"}]}, {\"label\": \"Machinery & Transport\", \"method\": \"update\", \"args\": [{\"visible\": [false, false, false, false, false, false, false, true, false, false]}, {\"title\": \"Machinery and Transport Equipment Export Amount\"}]}, {\"label\": \"Misc. Mfg. Articles\", \"method\": \"update\", \"args\": [{\"visible\": [false, false, false, false, false, false, false, false, true, false]}, {\"title\": \"Miscellaneous Manufactured Articles Export Amount\"}]}, {\"label\": \"Unclassified\", \"method\": \"update\", \"args\": [{\"visible\": [false, false, false, false, false, false, false, false, false, true]}, {\"title\": \"Commodities and Transactions not classified elsewhere Export Amount\"}]}], \"direction\": \"down\", \"x\": 1.2, \"xanchor\": \"right\", \"y\": 1.2, \"yanchor\": \"top\"}], \"xaxis\": {\"title\": \"Year\"}, \"yaxis\": {\"title\": \"USD\"}}, {\"showLink\": true, \"linkText\": \"Export to plot.ly\"})});</script>"
      ]
     },
     "metadata": {},
     "output_type": "display_data"
    }
   ],
   "source": [
    "iplot(fig, filename='update_dropdown')"
   ]
  }
 ],
 "metadata": {
  "kernelspec": {
   "display_name": "Python 3",
   "language": "python",
   "name": "python3"
  },
  "language_info": {
   "codemirror_mode": {
    "name": "ipython",
    "version": 3
   },
   "file_extension": ".py",
   "mimetype": "text/x-python",
   "name": "python",
   "nbconvert_exporter": "python",
   "pygments_lexer": "ipython3",
   "version": "3.6.2"
  }
 },
 "nbformat": 4,
 "nbformat_minor": 2
}
